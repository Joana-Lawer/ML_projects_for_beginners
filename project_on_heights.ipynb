{
 "cells": [
  {
   "cell_type": "markdown",
   "metadata": {},
   "source": [
    "## Importing Libraries"
   ]
  },
  {
   "cell_type": "code",
   "execution_count": 6,
   "metadata": {},
   "outputs": [],
   "source": [
    "import pandas as pd\n",
    "import numpy as np\n",
    "import matplotlib.pyplot as plt\n",
    "import seaborn as sns\n",
    "sns.set()"
   ]
  },
  {
   "cell_type": "markdown",
   "metadata": {},
   "source": [
    "## Reading data"
   ]
  },
  {
   "cell_type": "code",
   "execution_count": 11,
   "metadata": {},
   "outputs": [
    {
     "name": "stdout",
     "output_type": "stream",
     "text": [
      "   Rank            Country Name  Male Height in Cm  Female Height in Cm  \\\n",
      "0     1             Netherlands             183.78               170.36   \n",
      "1     2              Montenegro             183.30               169.96   \n",
      "2     3                 Estonia             182.79               168.66   \n",
      "3     4  Bosnia and Herzegovina             182.47               167.47   \n",
      "4     5                 Iceland             182.10               168.91   \n",
      "\n",
      "   Male Height in Ft  Female Height in Ft  \n",
      "0               6.03                 5.59  \n",
      "1               6.01                 5.58  \n",
      "2               6.00                 5.53  \n",
      "3               5.99                 5.49  \n",
      "4               5.97                 5.54  \n"
     ]
    }
   ],
   "source": [
    "df = pd.read_csv(\"heights.csv\")\n",
    "print(df.head())"
   ]
  },
  {
   "cell_type": "markdown",
   "metadata": {},
   "source": [
    "## Statistic Summary"
   ]
  },
  {
   "cell_type": "code",
   "execution_count": 12,
   "metadata": {},
   "outputs": [
    {
     "name": "stdout",
     "output_type": "stream",
     "text": [
      "[183.78 183.3  182.79 182.47 182.1  181.89 181.19 181.17 181.02 180.98\n",
      " 180.98 180.76 180.74 180.72 180.69 180.57 180.48 180.46 180.28 180.15\n",
      " 179.72 179.48 179.26 179.09 179.04 178.96 178.84 178.84 178.77 178.75\n",
      " 178.73 178.7  178.69 178.6  178.52 178.46 178.32 178.32 178.21 177.82\n",
      " 177.72 177.49 177.19 177.09 177.03 176.97 176.94 176.85 176.65 176.59\n",
      " 176.43 176.43 176.39 176.36 176.35 176.18 176.11 176.06 176.03 175.98\n",
      " 175.98 175.9  175.73 175.66 175.62 175.59 175.52 175.5  175.11 175.05\n",
      " 175.04 175.02 174.96 174.84 174.83 174.76 174.69 174.65 174.57 174.51\n",
      " 174.42 174.42 174.4  174.38 174.37 174.37 174.32 174.17 174.08 174.07\n",
      " 174.04 174.   173.98 173.84 173.81 173.79 173.71 173.67 173.56 173.53\n",
      " 173.53 173.5  173.27 173.16 173.01 172.88 172.76 172.75 172.23 172.15\n",
      " 172.13 172.07 172.06 171.89 171.85 171.84 171.7  171.66 171.64 171.61\n",
      " 171.55 171.3  171.23 171.22 170.94 170.77 170.7  170.69 170.67 170.67\n",
      " 170.67 170.62 170.6  170.52 170.48 170.46 170.37 170.3  170.29 170.26\n",
      " 170.19 170.14 170.09 169.91 169.75 169.63 169.59 169.57 169.57 169.41\n",
      " 169.2  169.01 168.89 168.84 168.74 168.6  168.5  168.46 168.44 168.43\n",
      " 168.36 168.29 168.23 168.18 168.17 168.1  168.07 167.92 167.87 167.72\n",
      " 167.62 167.34 167.33 167.32 167.05 166.98 166.75 166.7  166.5  166.43\n",
      " 166.31 166.26 166.02 165.68 165.54 165.48 165.35 165.26 165.23 165.16\n",
      " 165.08 164.42 164.36 164.36 164.3  163.1  163.07 162.78 160.13]\n"
     ]
    }
   ],
   "source": [
    "height = np.array(df[\"Male Height in Cm\"])\n",
    "print(height)"
   ]
  },
  {
   "cell_type": "code",
   "execution_count": 18,
   "metadata": {},
   "outputs": [
    {
     "name": "stdout",
     "output_type": "stream",
     "text": [
      "[5.59 5.58 5.53 5.49 5.54 5.56 5.51 5.54 5.48 5.49 5.47 5.47 5.52 5.5\n",
      " 5.44 5.46 5.46 5.47 5.45 5.48 5.45 5.35 5.44 5.36 5.4  5.37 5.43 5.44\n",
      " 5.4  5.4  5.39 5.45 5.48 5.4  5.48 5.42 5.49 5.46 5.38 5.4  5.4  5.42\n",
      " 5.48 5.5  5.44 5.39 5.36 5.3  5.4  5.33 5.43 5.28 5.33 5.31 5.29 5.38\n",
      " 5.32 5.45 5.36 5.32 5.36 5.33 5.33 5.36 5.29 5.35 5.36 5.31 5.45 5.29\n",
      " 5.33 5.31 5.25 5.23 5.27 5.29 5.29 5.29 5.28 5.32 5.31 5.37 5.36 5.35\n",
      " 5.34 5.29 5.3  5.4  5.27 5.32 5.26 5.29 5.39 5.3  5.24 5.21 5.34 5.24\n",
      " 5.25 5.25 5.27 5.29 5.27 5.32 5.21 5.23 5.19 5.27 5.27 5.24 5.26 5.26\n",
      " 5.2  5.29 5.18 5.32 5.2  5.26 5.23 5.23 5.19 5.37 5.21 5.24 5.26 5.24\n",
      " 5.21 5.24 5.25 5.13 5.21 5.23 5.17 5.19 5.25 5.23 5.24 5.21 5.18 5.24\n",
      " 5.19 5.22 5.28 5.11 5.26 5.2  5.09 5.24 5.18 5.21 5.15 5.24 5.2  5.16\n",
      " 5.2  5.13 5.12 5.19 5.2  5.19 5.31 5.27 5.21 5.19 5.21 5.1  5.11 5.14\n",
      " 5.06 5.14 5.16 5.09 5.08 5.09 5.09 5.15 5.07 5.08 5.09 5.16 5.08 5.06\n",
      " 5.14 5.12 5.25 5.14 5.08 5.08 5.06 5.02 5.   5.08 5.   4.95 5.1  5.15\n",
      " 5.14 5.02 5.01]\n"
     ]
    }
   ],
   "source": [
    "feet = np.array(df[\"Female Height in Ft\"])\n",
    "print(feet)"
   ]
  },
  {
   "cell_type": "code",
   "execution_count": 16,
   "metadata": {},
   "outputs": [
    {
     "name": "stdout",
     "output_type": "stream",
     "text": [
      "Mean height =  160.9429145728643\n",
      "Standard Deviation =  4.066121650185745\n",
      "Min height =  150.91\n",
      "Max height =  170.36\n",
      "Median height =  160.62\n",
      "25th percentile =  158.24\n",
      "75th percentile =  163.87\n"
     ]
    }
   ],
   "source": [
    "print(\"Mean height = \", height.mean())\n",
    "print(\"Standard Deviation = \", height.std())\n",
    "print(\"Min height = \", height.min())\n",
    "print(\"Max height = \", height.max())\n",
    "print(\"Median height = \", np.median(height))\n",
    "print(\"25th percentile = \", np.percentile(height, 25))\n",
    "print(\"75th percentile = \", np.percentile(height, 75))"
   ]
  },
  {
   "cell_type": "code",
   "execution_count": 19,
   "metadata": {},
   "outputs": [
    {
     "name": "stdout",
     "output_type": "stream",
     "text": [
      "Mean height =  5.280402010050251\n",
      "Standard Deviation =  0.1335327456724154\n",
      "Min height =  4.95\n",
      "Max height =  5.59\n",
      "Median height =  5.27\n",
      "25th percentile =  5.19\n",
      "75th percentile =  5.375\n"
     ]
    }
   ],
   "source": [
    "print(\"Mean height = \", feet.mean())\n",
    "print(\"Standard Deviation = \", feet.std())\n",
    "print(\"Min height = \", feet.min())\n",
    "print(\"Max height = \", feet.max())\n",
    "print(\"Median height = \", np.median(feet))\n",
    "print(\"25th percentile = \", np.percentile(feet, 25))\n",
    "print(\"75th percentile = \", np.percentile(feet, 75))"
   ]
  },
  {
   "cell_type": "markdown",
   "metadata": {},
   "source": [
    "## Plotting graphs"
   ]
  },
  {
   "cell_type": "code",
   "execution_count": 17,
   "metadata": {},
   "outputs": [
    {
     "data": {
      "image/png": "[encoded data removed]",
      "text/plain": [
       "<Figure size 432x288 with 1 Axes>"
      ]
     },
     "metadata": {},
     "output_type": "display_data"
    }
   ],
   "source": [
    "plt.hist(height)\n",
    "plt.title(\"Height Distribution of Males\")\n",
    "plt.xlabel(\"height(cm)\")\n",
    "plt.ylabel(\"Number\")\n",
    "plt.show()"
   ]
  },
  {
   "cell_type": "code",
   "execution_count": 20,
   "metadata": {},
   "outputs": [
    {
     "data": {
      "image/png": "[encoded data removed]",
      "text/plain": [
       "<Figure size 432x288 with 1 Axes>"
      ]
     },
     "metadata": {},
     "output_type": "display_data"
    }
   ],
   "source": [
    "plt.hist(feet)\n",
    "plt.title(\"Height Distribution of Females\")\n",
    "plt.xlabel(\"height(ft)\")\n",
    "plt.ylabel(\"Number\")\n",
    "plt.show()"
   ]
  },
  {
   "cell_type": "code",
   "execution_count": null,
   "metadata": {},
   "outputs": [],
   "source": []
  }
 ],
 "metadata": {
  "kernelspec": {
   "display_name": "Python 3.10.4 ('venv': venv)",
   "language": "python",
   "name": "python3"
  },
  "language_info": {
   "codemirror_mode": {
    "name": "ipython",
    "version": 3
   },
   "file_extension": ".py",
   "mimetype": "text/x-python",
   "name": "python",
   "nbconvert_exporter": "python",
   "pygments_lexer": "ipython3",
   "version": "3.10.4"
  },
  "vscode": {
   "interpreter": {
    "hash": "bbecab8c40dfe5d3011c098a5aa7461280da079ddd9f256849c1bc7032a8dd13"
   }
  }
 },
 "nbformat": 4,
 "nbformat_minor": 4
}
