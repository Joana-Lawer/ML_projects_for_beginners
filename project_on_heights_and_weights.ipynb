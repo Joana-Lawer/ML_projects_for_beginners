{
 "cells": [
  {
   "cell_type": "markdown",
   "metadata": {},
   "source": [
    "## Importing Libraries"
   ]
  },
  {
   "cell_type": "code",
   "execution_count": 6,
   "metadata": {},
   "outputs": [],
   "source": [
    "import pandas as pd\n",
    "import numpy as np\n",
    "import matplotlib.pyplot as plt\n",
    "import seaborn as sns\n",
    "sns.set()"
   ]
  },
  {
   "cell_type": "markdown",
   "metadata": {},
   "source": [
    "## Reading data"
   ]
  },
  {
   "cell_type": "code",
   "execution_count": 11,
   "metadata": {},
   "outputs": [
    {
     "name": "stdout",
     "output_type": "stream",
     "text": [
      "   Rank            Country Name  Male Height in Cm  Female Height in Cm  \\\n",
      "0     1             Netherlands             183.78               170.36   \n",
      "1     2              Montenegro             183.30               169.96   \n",
      "2     3                 Estonia             182.79               168.66   \n",
      "3     4  Bosnia and Herzegovina             182.47               167.47   \n",
      "4     5                 Iceland             182.10               168.91   \n",
      "\n",
      "   Male Height in Ft  Female Height in Ft  \n",
      "0               6.03                 5.59  \n",
      "1               6.01                 5.58  \n",
      "2               6.00                 5.53  \n",
      "3               5.99                 5.49  \n",
      "4               5.97                 5.54  \n"
     ]
    }
   ],
   "source": [
    "df = pd.read_csv(\"heights.csv\")\n",
    "print(df.head())"
   ]
  },
  {
   "cell_type": "markdown",
   "metadata": {},
   "source": [
    "## Statistic Summary"
   ]
  },
  {
   "cell_type": "code",
   "execution_count": 12,
   "metadata": {},
   "outputs": [
    {
     "name": "stdout",
     "output_type": "stream",
     "text": [
      "[183.78 183.3  182.79 182.47 182.1  181.89 181.19 181.17 181.02 180.98\n",
      " 180.98 180.76 180.74 180.72 180.69 180.57 180.48 180.46 180.28 180.15\n",
      " 179.72 179.48 179.26 179.09 179.04 178.96 178.84 178.84 178.77 178.75\n",
      " 178.73 178.7  178.69 178.6  178.52 178.46 178.32 178.32 178.21 177.82\n",
      " 177.72 177.49 177.19 177.09 177.03 176.97 176.94 176.85 176.65 176.59\n",
      " 176.43 176.43 176.39 176.36 176.35 176.18 176.11 176.06 176.03 175.98\n",
      " 175.98 175.9  175.73 175.66 175.62 175.59 175.52 175.5  175.11 175.05\n",
      " 175.04 175.02 174.96 174.84 174.83 174.76 174.69 174.65 174.57 174.51\n",
      " 174.42 174.42 174.4  174.38 174.37 174.37 174.32 174.17 174.08 174.07\n",
      " 174.04 174.   173.98 173.84 173.81 173.79 173.71 173.67 173.56 173.53\n",
      " 173.53 173.5  173.27 173.16 173.01 172.88 172.76 172.75 172.23 172.15\n",
      " 172.13 172.07 172.06 171.89 171.85 171.84 171.7  171.66 171.64 171.61\n",
      " 171.55 171.3  171.23 171.22 170.94 170.77 170.7  170.69 170.67 170.67\n",
      " 170.67 170.62 170.6  170.52 170.48 170.46 170.37 170.3  170.29 170.26\n",
      " 170.19 170.14 170.09 169.91 169.75 169.63 169.59 169.57 169.57 169.41\n",
      " 169.2  169.01 168.89 168.84 168.74 168.6  168.5  168.46 168.44 168.43\n",
      " 168.36 168.29 168.23 168.18 168.17 168.1  168.07 167.92 167.87 167.72\n",
      " 167.62 167.34 167.33 167.32 167.05 166.98 166.75 166.7  166.5  166.43\n",
      " 166.31 166.26 166.02 165.68 165.54 165.48 165.35 165.26 165.23 165.16\n",
      " 165.08 164.42 164.36 164.36 164.3  163.1  163.07 162.78 160.13]\n"
     ]
    }
   ],
   "source": [
    "height = np.array(df[\"Male Height in Cm\"])\n",
    "print(height)"
   ]
  },
  {
   "cell_type": "code",
   "execution_count": 14,
   "metadata": {},
   "outputs": [
    {
     "name": "stdout",
     "output_type": "stream",
     "text": [
      "[170.36 169.96 168.66 167.47 168.91 169.47 167.96 168.81 167.12 167.2\n",
      " 166.62 166.8  168.29 167.63 165.78 166.48 166.45 166.67 166.18 166.89\n",
      " 166.11 163.06 165.81 163.4  164.5  163.67 165.53 165.72 164.67 164.73\n",
      " 164.33 165.99 166.93 164.49 166.93 165.07 167.31 166.52 163.94 164.73\n",
      " 164.66 165.3  167.03 167.55 165.66 164.32 163.31 161.69 164.52 162.55\n",
      " 165.52 160.88 162.56 161.8  161.18 163.92 162.03 166.08 163.38 162.22\n",
      " 163.24 162.47 162.41 163.46 161.18 162.96 163.23 161.74 166.08 161.28\n",
      " 162.35 161.99 160.1  159.46 160.62 161.22 161.22 161.21 160.88 162.26\n",
      " 161.81 163.82 163.46 162.95 162.83 161.23 161.56 164.58 160.53 162.23\n",
      " 160.36 161.37 164.28 161.4  159.76 158.75 162.78 159.85 160.13 160.04\n",
      " 160.7  161.3  160.72 162.06 158.94 159.42 158.29 160.55 160.58 159.57\n",
      " 160.41 160.36 158.5  161.33 157.96 162.12 158.44 160.2  159.38 159.42\n",
      " 158.14 163.57 158.78 159.86 160.29 159.82 158.75 159.85 159.89 156.39\n",
      " 158.84 159.52 157.58 158.12 160.05 159.43 159.81 158.86 157.9  159.81\n",
      " 158.19 159.13 161.04 155.62 160.26 158.58 155.18 159.66 157.82 158.92\n",
      " 157.06 159.65 158.43 157.15 158.53 156.3  156.11 158.1  158.4  158.12\n",
      " 161.73 160.48 158.65 158.05 158.72 155.58 155.88 156.72 154.28 156.54\n",
      " 157.32 155.08 154.77 155.25 155.15 156.89 154.39 154.71 155.18 157.34\n",
      " 154.9  154.36 156.72 156.14 160.06 156.54 154.75 154.76 154.14 153.06\n",
      " 152.38 154.76 152.39 150.91 155.42 156.89 156.79 153.1  152.71]\n"
     ]
    }
   ],
   "source": [
    "F_height = np.array(df[\"Female Height in Cm\"])\n",
    "print(F_height)"
   ]
  },
  {
   "cell_type": "code",
   "execution_count": 16,
   "metadata": {},
   "outputs": [
    {
     "name": "stdout",
     "output_type": "stream",
     "text": [
      "Mean height =  160.9429145728643\n",
      "Standard Deviation =  4.066121650185745\n",
      "Min height =  150.91\n",
      "Max height =  170.36\n",
      "Median height =  160.62\n",
      "25th percentile =  158.24\n",
      "75th percentile =  163.87\n"
     ]
    }
   ],
   "source": [
    "print(\"Mean height = \", height.mean())\n",
    "print(\"Standard Deviation = \", height.std())\n",
    "print(\"Min height = \", height.min())\n",
    "print(\"Max height = \", height.max())\n",
    "print(\"Median height = \", np.median(height))\n",
    "print(\"25th percentile = \", np.percentile(height, 25))\n",
    "print(\"75th percentile = \", np.percentile(height, 75))"
   ]
  },
  {
   "cell_type": "markdown",
   "metadata": {},
   "source": [
    "## Plotting graphs"
   ]
  },
  {
   "cell_type": "code",
   "execution_count": 17,
   "metadata": {},
   "outputs": [
    {
     "data": {
      "image/png": "[encoded data removed]",
      "text/plain": [
       "<Figure size 432x288 with 1 Axes>"
      ]
     },
     "metadata": {},
     "output_type": "display_data"
    }
   ],
   "source": [
    "plt.hist(height)\n",
    "plt.title(\"Height Distribution of Males\")\n",
    "plt.xlabel(\"height(cm)\")\n",
    "plt.ylabel(\"Number\")\n",
    "plt.show()"
   ]
  },
  {
   "cell_type": "code",
   "execution_count": null,
   "metadata": {},
   "outputs": [],
   "source": []
  }
 ],
 "metadata": {
  "kernelspec": {
   "display_name": "Python 3 (ipykernel)",
   "language": "python",
   "name": "python3"
  },
  "language_info": {
   "codemirror_mode": {
    "name": "ipython",
    "version": 3
   },
   "file_extension": ".py",
   "mimetype": "text/x-python",
   "name": "python",
   "nbconvert_exporter": "python",
   "pygments_lexer": "ipython3",
   "version": "3.7.7"
  }
 },
 "nbformat": 4,
 "nbformat_minor": 4
}
